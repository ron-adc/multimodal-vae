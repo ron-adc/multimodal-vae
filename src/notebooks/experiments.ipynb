{
 "cells": [
  {
   "cell_type": "code",
   "execution_count": null,
   "id": "2c62576d",
   "metadata": {},
   "outputs": [],
   "source": [
    "import sys\n",
    "import os\n",
    "sys.path.append(os.path.abspath('../../'))"
   ]
  },
  {
   "cell_type": "code",
   "execution_count": null,
   "id": "78fa3b97",
   "metadata": {},
   "outputs": [],
   "source": [
    "import numpy as np\n",
    "import json\n",
    "import os\n",
    "import matplotlib.pyplot as plt\n",
    "import matplotlib.image as mpimg\n",
    "import torch\n",
    "from torchvision import transforms\n",
    "from src.data import MultimodalDataset\n",
    "from src.models.image_encoder import ImageEncoder\n"
   ]
  },
  {
   "cell_type": "markdown",
   "id": "1d771d42",
   "metadata": {},
   "source": [
    "# Exploring the data"
   ]
  },
  {
   "cell_type": "code",
   "execution_count": null,
   "id": "e1e366f6",
   "metadata": {},
   "outputs": [],
   "source": [
    "captions_path = '../../data/mscoco/annotations/captions_val2017.json'\n",
    "\n",
    "\n",
    "with open(captions_path, 'r') as f:\n",
    "    captions = json.load(f)"
   ]
  },
  {
   "cell_type": "code",
   "execution_count": null,
   "id": "96ba054d",
   "metadata": {},
   "outputs": [],
   "source": [
    "len(captions['annotations'])"
   ]
  },
  {
   "cell_type": "code",
   "execution_count": null,
   "id": "9a65732e",
   "metadata": {},
   "outputs": [],
   "source": [
    "captions['annotations'][0]"
   ]
  },
  {
   "cell_type": "code",
   "execution_count": null,
   "id": "19228612",
   "metadata": {},
   "outputs": [],
   "source": [
    "captions['images'][2]"
   ]
  },
  {
   "cell_type": "code",
   "execution_count": null,
   "id": "13d9f4d2",
   "metadata": {},
   "outputs": [],
   "source": [
    "captions['annotations'][2]['image_id']"
   ]
  },
  {
   "cell_type": "code",
   "execution_count": null,
   "id": "f4a1fcbd",
   "metadata": {},
   "outputs": [],
   "source": [
    "idx = 2\n",
    "img = mpimg.imread(os.path.join('../../data/mscoco/val2017', captions['images'][idx]['file_name']))\n",
    "plt.imshow(img)\n",
    "plt.axis('off')\n",
    "plt.show()\n",
    "print(captions['annotations'][idx]['caption'])"
   ]
  },
  {
   "cell_type": "code",
   "execution_count": null,
   "id": "8cf790eb",
   "metadata": {},
   "outputs": [],
   "source": [
    "id2file = {img['id']: img['file_name'] for img in captions['images']}\n",
    "\n",
    "image_filename_caption_pairs = []\n",
    "for ann in captions['annotations']:\n",
    "    caption = ann['caption']\n",
    "    filename = id2file.get(ann['image_id'])\n",
    "    if filename:\n",
    "        image_filename_caption_pairs.append((filename, caption))"
   ]
  },
  {
   "cell_type": "code",
   "execution_count": null,
   "id": "3e2165f5",
   "metadata": {},
   "outputs": [],
   "source": [
    "[caption for caption in image_filename_caption_pairs if caption[0] == image_filename_caption_pairs[idx][0]]"
   ]
  },
  {
   "cell_type": "code",
   "execution_count": null,
   "id": "cb6eef30",
   "metadata": {},
   "outputs": [],
   "source": [
    "img = mpimg.imread(os.path.join('../../data/mscoco/val2017', image_filename_caption_pairs[idx][0]))\n",
    "plt.imshow(img)\n",
    "plt.axis('off')\n",
    "plt.show()\n",
    "print(image_filename_caption_pairs[idx][1])"
   ]
  },
  {
   "cell_type": "code",
   "execution_count": null,
   "id": "bf824acd",
   "metadata": {},
   "outputs": [],
   "source": [
    "from collections import Counter\n",
    "\n",
    "# Count occurrences of each image filename in image_filename_caption_pairs\n",
    "filename_counts = Counter([pair[0] for pair in image_filename_caption_pairs])\n",
    "\n",
    "# Get list of filenames that appear more than once\n",
    "duplicates = [filename for filename, count in filename_counts.items() if count > 1]\n",
    "len(duplicates)\n"
   ]
  },
  {
   "cell_type": "code",
   "execution_count": null,
   "id": "4dee8ed2",
   "metadata": {},
   "outputs": [],
   "source": [
    "filename_counts.most_common()[-10:]"
   ]
  },
  {
   "cell_type": "markdown",
   "id": "28306075",
   "metadata": {},
   "source": [
    "# Testing the implementation"
   ]
  },
  {
   "cell_type": "code",
   "execution_count": null,
   "id": "0ca60512",
   "metadata": {},
   "outputs": [],
   "source": [
    "img_path = '../../data/mscoco/val2017'\n",
    "captions_path = '../../data/mscoco/annotations/captions_val2017.json'\n",
    "\n",
    "\n",
    "transforms = transforms.Compose([\n",
    "    transforms.Resize((256, 256)),\n",
    "    transforms.CenterCrop((224, 224)),\n",
    "    transforms.ToTensor(),\n",
    "])\n",
    "\n",
    "dataset = MultimodalDataset(img_path, captions_path, transform=transforms, freq_threshold=1)"
   ]
  },
  {
   "cell_type": "code",
   "execution_count": null,
   "id": "085ae1b5",
   "metadata": {},
   "outputs": [],
   "source": [
    "sample_dataset = [dataset[i] for i in range(100)]\n",
    "\n",
    "image_encoder = ImageEncoder(in_channels=3, image_size=(224, 224), latent_dim=128)\n",
    "image_encoder.eval()  # Set to evaluation mode\n",
    "\n",
    "for idx, (sample_image, _) in enumerate(sample_dataset):\n",
    "    sample_image = sample_image.unsqueeze(0)\n",
    "    print(sample_image.shape)\n",
    "    mu, logvar = image_encoder(sample_image)\n",
    "    print(f\"Image {idx+1}: Latent mean (mu): {mu}, Latent log-variance (logvar): {logvar}\")"
   ]
  },
  {
   "cell_type": "code",
   "execution_count": null,
   "id": "4a04ba67",
   "metadata": {},
   "outputs": [],
   "source": []
  }
 ],
 "metadata": {
  "kernelspec": {
   "display_name": "venv",
   "language": "python",
   "name": "python3"
  },
  "language_info": {
   "codemirror_mode": {
    "name": "ipython",
    "version": 3
   },
   "file_extension": ".py",
   "mimetype": "text/x-python",
   "name": "python",
   "nbconvert_exporter": "python",
   "pygments_lexer": "ipython3",
   "version": "3.11.6"
  }
 },
 "nbformat": 4,
 "nbformat_minor": 5
}
